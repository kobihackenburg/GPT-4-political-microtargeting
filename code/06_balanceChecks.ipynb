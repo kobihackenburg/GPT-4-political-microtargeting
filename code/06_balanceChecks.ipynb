{
 "cells": [
  {
   "cell_type": "code",
   "execution_count": 2,
   "metadata": {},
   "outputs": [
    {
     "name": "stdout",
     "output_type": "stream",
     "text": [
      "                     term   df      sum_sq     mean_sq         F    PR(>F)  \\\n",
      "0  C(treatment_condition)  3.0  363.741704  121.247235  0.646638  0.584994   \n",
      "0  C(treatment_condition)  3.0    1.577614    0.525871  0.396469  0.755549   \n",
      "0  C(treatment_condition)  3.0    0.516785    0.172262  0.119749  0.948524   \n",
      "0  C(treatment_condition)  3.0    2.261959    0.753986  0.918625  0.430862   \n",
      "0  C(treatment_condition)  3.0    1.000450    0.333483  1.681476  0.168658   \n",
      "0  C(treatment_condition)  3.0    0.111755    0.037252  0.148946  0.930402   \n",
      "0  C(treatment_condition)  3.0    0.734004    0.244668  0.997489  0.392842   \n",
      "0  C(treatment_condition)  3.0    0.655274    0.218425  1.214083  0.302845   \n",
      "\n",
      "                    covariate  \n",
      "0                         age  \n",
      "0       political_party_coded  \n",
      "0    political_ideology_coded  \n",
      "0  political_engagement_coded  \n",
      "0             ethnicity_white  \n",
      "0               gender_female  \n",
      "0                education_ba  \n",
      "0            religious_binary  \n"
     ]
    }
   ],
   "source": [
    "import numpy as np\n",
    "import pandas as pd\n",
    "import statsmodels.api as sm\n",
    "from statsmodels.formula.api import ols\n",
    "from statsmodels.stats.anova import anova_lm\n",
    "\n",
    "# Read in csv file and print out the number of rows\n",
    "df = pd.read_csv('GPTarget2024.csv')\n",
    "\n",
    "# create new binary columns\n",
    "df['ethnicity_white'] = np.where(df['ethnicity'] == 'white', 1, 0)\n",
    "df['gender_female'] = np.where(df['gender'] == 'female', 1, 0)\n",
    "df['education_ba'] = np.where(df['education'].isin(['masters_degree', 'doctoral_degree']), 0, 1)\n",
    "df['religious_binary'] = np.where(df['religious_affiliation'].isin(['aethiest', 'agnostic']), 0, 1)\n",
    "\n",
    "# list of covs\n",
    "covs = ['age', 'political_party_coded', 'political_ideology_coded', 'political_engagement_coded', 'ethnicity_white', 'gender_female', 'education_ba', 'religious_binary']\n",
    "\n",
    "# Function to perform ANOVA and return results\n",
    "def run_anova(df, covariate):\n",
    "    model_formula = f'{covariate} ~ C(treatment_condition)'\n",
    "    model = ols(model_formula, data=df).fit()\n",
    "    anova_results = anova_lm(model)\n",
    "    anova_results.reset_index(inplace=True)\n",
    "    anova_results.rename(columns={'index': 'term'}, inplace=True)\n",
    "    anova_results = anova_results[anova_results['term'] != 'Residual']\n",
    "    anova_results['covariate'] = covariate\n",
    "    return anova_results\n",
    "\n",
    "# Apply the function to each covariate and concatenate the results\n",
    "out_cov_checks = pd.concat([run_anova(df, cov) for cov in covs])\n",
    "\n",
    "print(out_cov_checks)"
   ]
  }
 ],
 "metadata": {
  "kernelspec": {
   "display_name": "oii_thesis",
   "language": "python",
   "name": "python3"
  },
  "language_info": {
   "codemirror_mode": {
    "name": "ipython",
    "version": 3
   },
   "file_extension": ".py",
   "mimetype": "text/x-python",
   "name": "python",
   "nbconvert_exporter": "python",
   "pygments_lexer": "ipython3",
   "version": "3.9.16"
  }
 },
 "nbformat": 4,
 "nbformat_minor": 2
}
